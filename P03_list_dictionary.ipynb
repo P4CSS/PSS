{
 "cells": [
  {
   "cell_type": "markdown",
   "metadata": {
    "id": "view-in-github"
   },
   "source": [
    "<a href=\"https://colab.research.google.com/github/P4CSS/PSS/blob/master/P03_list_dictionary.ipynb\" target=\"_parent\"><img src=\"https://colab.research.google.com/assets/colab-badge.svg\" alt=\"Open In Colab\"/></a>"
   ]
  },
  {
   "cell_type": "markdown",
   "metadata": {
    "id": "MI-XzzYfC9Dk"
   },
   "source": [
    "# Index\n",
    "1. List\n",
    "2. Practice: read csv into two-layers list\n",
    "3. Dictionary\n",
    "4. Practice: traversing ubike data by dictionary and list\n",
    "\n",
    "# Links to JSON file for practice\n",
    "- DCard https://www.dcard.tw/service/api/v2/forums/job/posts?limit=30\n",
    "- Youbike https://tcgbusfs.blob.core.windows.net/blobyoubike/YouBikeTP.gz\n",
    "- AQI https://opendata.epa.gov.tw/api/v1/AQI?%24skip=0&%24top=1000&%24format=json\n",
    "\n"
   ]
  },
  {
   "cell_type": "markdown",
   "metadata": {
    "id": "yzEoLKunC9Dp"
   },
   "source": [
    "# LIST\n",
    "**List**（你可以中譯為串列，上課中會說List）。顧名思義，「a list of something」，通常代表的是「something arranged in order」。也就是把一群物件、東西、數值、變數照順序排好。List就是這樣的結構。只要放進List中，他就會被給予一個整數編號，而整數編號從0開始編起。在下列程式`=`（assign）右側為List（`[]`是一個空的list），當其被assign給左側時，左側的變項就是List型態。\n",
    "```\n",
    "alist = [] # assign an empty list to variable alist\n",
    "alist = [3, 4, 5] # assign a list to variable alist\n",
    "```\n",
    "\n",
    "**List**所要學習的內容包含以下幾個項目\n",
    "1. **Definition**: An ordered sequence\n",
    "2. **Access**: Access by index, from head or tail\n",
    "3. **Update**: `.pop()` from tail, `.extends()` multiple element, `.append()` one element\n",
    "\n",
    "List中的內容不一定要同型態，List中也可以有List，也可以同時有float（浮點數）、int（整數）或str（字串）等多種變數型態的數值。但多半在實際寫程式時，會盡量讓list中內容的變數型態維持一致。"
   ]
  },
  {
   "cell_type": "markdown",
   "metadata": {
    "id": "FpwYTbVEC9Dp"
   },
   "source": [
    "## Access a list\n",
    "如上例，3就放置在`alist`的0的位置，可用`alist[0]`存取；4就放置在`alist`的1的位置，可用`alist[1]`存取。當要存取一個list中某一個內容時，就把數值或其他變數Assign給相對應的位置。例如`alist[3] = 4`"
   ]
  },
  {
   "cell_type": "code",
   "execution_count": 4,
   "metadata": {
    "ExecuteTime": {
     "end_time": "2020-03-16T17:02:15.725746Z",
     "start_time": "2020-03-16T17:02:15.719196Z"
    },
    "id": "eW8kRhJwC9Dq",
    "outputId": "85dd2d29-f2ed-4a6d-fde6-f94a0caf5341"
   },
   "outputs": [
    {
     "name": "stdout",
     "output_type": "stream",
     "text": [
      "[10, 9, 8, 7, 6, 5, 4, 3, 2, 1]\n",
      "1\n",
      "10 9\n",
      "10\n"
     ]
    }
   ],
   "source": [
    "alist = [10, 9, 8, 7, 6, 5, 4, 3, 2, 1]\n",
    "\n",
    "# print whole list\n",
    "print(alist)\n",
    "\n",
    "# print the last one element\n",
    "print(alist[-1])\n",
    "\n",
    "# print the first and second elements\n",
    "print(alist[0], alist[1])\n",
    "\n",
    "# print the length of the list by function len()\n",
    "print(len(alist))\n"
   ]
  },
  {
   "cell_type": "markdown",
   "metadata": {
    "id": "qNrz57ayC9Dr"
   },
   "source": [
    "## List Slicing\n",
    "有時候我們不只要取出一個元素，而是要取出list中第n個到第m個元素，這樣的動作可稱為Slicing。下面程式碼可取出list中最後一個元素，或者取其中數個元素。以`alist[1:3]`為例，其取index從1開始到3*之前*。所以是1與2。而alist[-3:-1]則是取-3開始到-1*之前*。"
   ]
  },
  {
   "cell_type": "code",
   "execution_count": 3,
   "metadata": {
    "ExecuteTime": {
     "end_time": "2020-03-16T17:03:07.184691Z",
     "start_time": "2020-03-16T17:03:07.180458Z"
    },
    "id": "9gfeTAknC9Dr",
    "outputId": "101d0069-af79-4c56-fb63-04a85c1b0093"
   },
   "outputs": [
    {
     "name": "stdout",
     "output_type": "stream",
     "text": [
      "[10, 9]\n",
      "[10, 9]\n",
      "[3, 2]\n"
     ]
    }
   ],
   "source": [
    "# print the 1 to 2 elements\n",
    "print(alist[0:2])\n",
    "print(alist[:2])\n",
    "\n",
    "\n",
    "# print the last 3 to 2 elements from the end\n",
    "print(alist[-3:-1])\n"
   ]
  },
  {
   "cell_type": "markdown",
   "metadata": {
    "id": "L5pzYAFYC9Dr"
   },
   "source": [
    "## Update a list: append() and extend() and +"
   ]
  },
  {
   "cell_type": "code",
   "execution_count": 10,
   "metadata": {
    "ExecuteTime": {
     "end_time": "2020-03-16T17:04:29.098318Z",
     "start_time": "2020-03-16T17:04:29.092636Z"
    },
    "id": "FAwOZGiQC9Ds",
    "outputId": "1912d254-16b6-4aa3-f191-ea9c62a07146"
   },
   "outputs": [
    {
     "name": "stdout",
     "output_type": "stream",
     "text": [
      "[10, 9, 8, 7, 6, 5, 4, 3, 2, 1, 0, 1]\n",
      "[10, 9, 8, 7, 6, 5, 4, 3, 2, 1, 0, 1, 3, 4, 5, [3, 4, 5]]\n"
     ]
    }
   ],
   "source": [
    "alist = [10, 9, 8, 7, 6, 5, 4, 3, 2, 1]\n",
    "\n",
    "# Append two integers to alist one by one\n",
    "alist.append(0)\n",
    "alist.append(1)\n",
    "print(alist)\n",
    "\n",
    "# Extend alist with another list [3, 4, 5]\n",
    "alist.extend([3, 4, 5])\n",
    "\n",
    "# Append alist with another list [3, 4, 5]\n",
    "alist.append([3, 4, 5])\n",
    "\n",
    "# print out alist to see what happens\n",
    "print(alist)\n"
   ]
  },
  {
   "cell_type": "markdown",
   "metadata": {
    "id": "ETiutosAC9Ds"
   },
   "source": [
    "## Using + to concatinate two lists"
   ]
  },
  {
   "cell_type": "code",
   "execution_count": null,
   "metadata": {
    "ExecuteTime": {
     "end_time": "2020-03-16T17:04:38.001874Z",
     "start_time": "2020-03-16T17:04:37.996414Z"
    },
    "id": "KKLKgE23C9Ds",
    "outputId": "0b4fefcf-3f02-4f7b-8489-74da4f085496"
   },
   "outputs": [
    {
     "name": "stdout",
     "output_type": "stream",
     "text": [
      "[1, 2, 3, 4, 5, 6]\n"
     ]
    }
   ],
   "source": [
    "print([1, 2, 3] + [4, 5, 6])"
   ]
  },
  {
   "cell_type": "markdown",
   "metadata": {
    "id": "almaaxeGC9Ds"
   },
   "source": [
    "## Accessing two layers list"
   ]
  },
  {
   "cell_type": "code",
   "execution_count": 13,
   "metadata": {
    "ExecuteTime": {
     "end_time": "2020-03-17T15:56:38.523921Z",
     "start_time": "2020-03-17T15:56:38.518163Z"
    },
    "id": "0UmlN67wC9Dt",
    "outputId": "c4619580-7d0c-464c-d9e8-04fef2d46cfd"
   },
   "outputs": [
    {
     "name": "stdout",
     "output_type": "stream",
     "text": [
      "8\n",
      "[1, 2, 3] <class 'list'>\n",
      "3\n"
     ]
    }
   ],
   "source": [
    "alist = [1, 2, 3, 4, 'abc', '123', '123.1', [1, 2, 3] ]\n",
    "print(len(alist)) #length len()\n",
    "print(alist[7], type(alist[7]))\n",
    "\n",
    "\n",
    "# Access any elements in the second layers of alsit\n",
    "print(alist[-1][2]) # Review: -1 indicates the last element in a list\n"
   ]
  },
  {
   "cell_type": "markdown",
   "metadata": {
    "id": "kPWr-BHiC9Dt"
   },
   "source": [
    "# Dictionary\n",
    "\n",
    "Dictionary（你可以中譯為「字典」，但上課會直接稱之為dict）如同其字面上的意思，是給人就單字查詢意義的。在python中也不例外，他所存放的是「key to value pairs」。所以實際上他的內容並沒有順序，所以他不像list是用index 0, 1, 2...來存取。他是用key來存取value。在下面的例子中`adict[1]`所對應的值就是`3`，`2`所對應的值就是`4`。\n",
    "```\n",
    "adict = {1:3, '2':4}\n",
    "```\n",
    "\n",
    "雖然說是key和value，但其中的value也可以是list，或者是另一個dictionary。而一個list中，也可以擺放很多個dictionary，簡單地說，就是list中可以有dictionary或list，dictionary可對應到list或dictionary。唯獨要注意的是，list或dictionary，不可以當作dictionary的key，這是為了怕寫程式的人亂改list或dictionary作為key的值，導致對應錯誤。但tuple可以作為dictionary的key。"
   ]
  },
  {
   "cell_type": "code",
   "execution_count": 14,
   "metadata": {
    "ExecuteTime": {
     "end_time": "2020-03-17T16:14:49.232834Z",
     "start_time": "2020-03-17T16:14:49.223745Z"
    },
    "id": "e5k7ECpIC9Dt",
    "outputId": "923f9e84-82ee-4f65-aac2-adb4aec6b6cb"
   },
   "outputs": [
    {
     "name": "stdout",
     "output_type": "stream",
     "text": [
      "3 4\n",
      "8\n",
      "5\n",
      "<class 'dict'>\n",
      "2\n",
      "2\n"
     ]
    }
   ],
   "source": [
    "adict = {1:3, '2':4}\n",
    "print(adict[1], adict['2'])\n",
    "alist = [1, 2, 3, \"a\", 'b', 'c', [1, 2, 3], [4, 5, 6]]\n",
    "print(len(alist))\n",
    "\n",
    "adict = {'3':3, 2:4, '3':5, '4':6, 1.13: '123', 'a': alist}\n",
    "print(len(adict))\n",
    "print(type(adict))\n",
    "print(adict['a'][6][1])\n",
    "\n",
    "bdict = {1:alist, 2:adict}\n",
    "print(bdict[2]['a'][6][1])\n",
    "\n",
    "\n",
    "# alist = [1, 2, 3, 4, 'abc', '123', '123.1', [1, 2, 3]]\n",
    "# adict = {1:3, 2:4, 3:5, 4:6, '1':3, 1.13:'123', 'a': alist}\n",
    "# print(type(adict['a'][7][1]), len(adict['a'][7]))\n",
    "# print(adict['1'])\n",
    "# print(adict[1.13])"
   ]
  },
  {
   "cell_type": "markdown",
   "metadata": {
    "id": "Wxj5z1DJC9Dt"
   },
   "source": [
    "## Access dictionary\n"
   ]
  },
  {
   "cell_type": "code",
   "execution_count": 15,
   "metadata": {
    "ExecuteTime": {
     "end_time": "2020-03-17T16:16:02.030373Z",
     "start_time": "2020-03-17T16:16:02.025319Z"
    },
    "id": "1MVPwi4fC9Dt",
    "outputId": "b8b3e8c4-de54-4a0e-c46d-9406da8fddba"
   },
   "outputs": [
    {
     "name": "stdout",
     "output_type": "stream",
     "text": [
      "{1: [1, 2, 3, 'a', 'b', 'c', [1, 2, 3], [4, 5, 6]], 2: {'3': 5, 2: 4, '4': 6, 1.13: '123', 'a': [1, 2, 3, 'a', 'b', 'c', [1, 2, 3], [4, 5, 6]]}}\n",
      "5\n",
      "dict_keys(['3', 2, '4', 1.13, 'a'])\n",
      "dict_values([5, 4, 6, '123', [1, 2, 3, 'a', 'b', 'c', [1, 2, 3], [4, 5, 6]]])\n"
     ]
    }
   ],
   "source": [
    "# access the dictionary\n",
    "\n",
    "# print whole dict\n",
    "print(bdict)\n",
    "\n",
    "# print the value of key '1'\n",
    "print(adict['3'])\n",
    "\n",
    "# print the value of key 1\n",
    "print(adict.keys())\n",
    "print(adict.values())\n",
    "\n",
    "# print the first element of the list mapped by key 4\n"
   ]
  },
  {
   "cell_type": "markdown",
   "metadata": {
    "id": "K0QWT39pC9Du"
   },
   "source": [
    "# Accessing list of dic: json\n",
    "**資料說明**（[youbike data link](http://data.taipei/opendata/datalist/datasetMeta?oid=8ef1626a-892a-4218-8344-f7ac46e1aa48)）。來自台北市政府的說明「為提供更優質之資料服務，YouBike臺北市公共自行車即時資訊介接網址自10月16日起改為http://data.taipei/youbike \n",
    "檔案格式為經gz壓縮之json檔，請下載後解壓縮使用（部分瀏覽器如Chrome下載後會自動解壓縮，請留意！）；規格調整如右連結http://goo.gl/pmcIo3 此外，「最後更新時間」欄位之內容為詮釋資料更新時間，非資料檔案更新時間，實際資料檔案更新時間為「每1分鐘」，可參考檔案內容之「mday」欄位。」\n",
    "\n",
    "**獲取youbike資料的流程**\n",
    "1. 用`requests`套件的`.get()`獲取該url的回應。\n",
    "2. 將該http request response的文字抽取出來`response.text`，資料型態為`str`\n",
    "3. 將抽取出來的文字，我知道他是用json格式存，因此用`json.loads()`將其轉換為python的資料型態，也就是由層層list與dictionary所套疊起來的資料\n",
    "4. 最後一一存取其內容\n",
    "\n",
    "## 從網路上抓取資料並轉換為python的dictionary與list物件。\n",
    "> 這部分可以先不用管到底做了什麼事情。反正日後會教，單純只是用這個例子讓各位知道怎麼access dict"
   ]
  },
  {
   "cell_type": "code",
   "execution_count": 1,
   "metadata": {
    "ExecuteTime": {
     "end_time": "2020-03-17T16:22:07.444844Z",
     "start_time": "2020-03-17T16:22:05.356181Z"
    },
    "colab": {
     "base_uri": "https://localhost:8080/"
    },
    "id": "nz5PwfAFC9Du",
    "outputId": "e7121492-2a58-4db1-ae56-fe14a1ebac01"
   },
   "outputs": [
    {
     "name": "stdout",
     "output_type": "stream",
     "text": [
      "<class 'requests.models.Response'>\n",
      "<class 'str'>\n",
      "<class 'dict'>\n"
     ]
    }
   ],
   "source": [
    "# import requests library to send web query\n",
    "import requests\n",
    "\n",
    "# import json library to parse json format\n",
    "import json\n",
    "\n",
    "response = requests.get('https://tcgbusfs.blob.core.windows.net/blobyoubike/YouBikeTP.gz')\n",
    "print(type(response)) # <class 'requests.models.Response'>\n",
    "print(type(response.text)) # <class 'str'>\n",
    "data = json.loads(response.text)\n",
    "print(type(data))"
   ]
  },
  {
   "cell_type": "markdown",
   "metadata": {
    "id": "8YcBkgcrC9Du"
   },
   "source": [
    "## Traversing JSON data: 利用測試的方法測試出一筆資料的結構\n",
    "**法則一：如果偵測出他是一個list**，那就取出第0筆資料往下追蹤。\n",
    "\n",
    "**法則二：如果偵測出他是一個dict**，就用`dict.keys()`將其所有的key給列印出來，然後挑你所需要的key往下追蹤。但如果`.keys()`印出來的結果是類似流水號的id（e.g., youbike data），那就代表設計者把id對應到該id的資料。此時，也是不失一般性，取第一個id作為索引來往下存取即可。\n",
    "\n",
    "```\n",
    "Output(kind-of):\n",
    "<class 'dict'>\n",
    "dict_keys(['retCode', 'retVal'])\n",
    "1\n",
    "<class 'dict'>\n",
    "400\n",
    "{'sno': '0001', 'sna': '捷運市政府站(3號出口)', 'tot': '180', 'sbi': '14', 'sarea': '信義區', 'mday': '20210308011737', 'lat': '25.0408578889', 'lng': '121.567904444', 'ar': '忠孝東路/松仁路(東南側)', 'sareaen': 'Xinyi Dist.', 'snaen': 'MRT Taipei City Hall Stataion(Exit 3)-2', 'aren': 'The S.W. side of Road Zhongxiao East Road & Road Chung Yan.', 'bemp': '165', 'act': '1'}\n",
    "<class 'dict'>\n",
    "dict_keys(['sno', 'sna', 'tot', 'sbi', 'sarea', 'mday', 'lat', 'lng', 'ar', 'sareaen', 'snaen', 'aren', 'bemp', 'act'])\n",
    "捷運市政府站(3號出口)\n",
    "14\n",
    "180\n",
    "```"
   ]
  },
  {
   "cell_type": "code",
   "execution_count": 27,
   "metadata": {
    "ExecuteTime": {
     "end_time": "2020-03-17T16:30:10.927771Z",
     "start_time": "2020-03-17T16:30:10.918229Z"
    },
    "colab": {
     "base_uri": "https://localhost:8080/"
    },
    "id": "rNVwQgicC9Dv",
    "outputId": "c65f4a6d-9290-4ce6-e51b-2164f2f91f2a"
   },
   "outputs": [
    {
     "name": "stdout",
     "output_type": "stream",
     "text": [
      "<class 'dict'>\n",
      "dict_keys(['retCode', 'retVal'])\n",
      "<class 'dict'>\n",
      "399\n",
      "dict_keys(['0001', '0002', '0003', '0004', '0005', '0006', '0007', '0008', '0009', '0010', '0011', '0012', '0013', '0014', '0016', '0017', '0018', '0019', '0021', '0022', '0023', '0024', '0025', '0026', '0027', '0028', '0029', '0030', '0031', '0032', '0033', '0034', '0035', '0036', '0037', '0038', '0039', '0040', '0041', '0042', '0043', '0044', '0045', '0046', '0047', '0048', '0049', '0050', '0051', '0052', '0053', '0054', '0055', '0056', '0057', '0058', '0059', '0060', '0061', '0062', '0063', '0064', '0065', '0066', '0067', '0068', '0069', '0070', '0071', '0072', '0073', '0074', '0075', '0076', '0077', '0078', '0079', '0080', '0081', '0082', '0083', '0084', '0085', '0086', '0087', '0088', '0089', '0090', '0091', '0092', '0093', '0094', '0095', '0096', '0097', '0098', '0099', '0100', '0101', '0102', '0103', '0104', '0105', '0106', '0107', '0108', '0109', '0110', '0111', '0112', '0113', '0114', '0115', '0116', '0117', '0118', '0119', '0120', '0121', '0122', '0123', '0124', '0125', '0126', '0127', '0128', '0129', '0130', '0131', '0132', '0133', '0134', '0135', '0136', '0137', '0138', '0139', '0140', '0141', '0142', '0143', '0144', '0145', '0146', '0147', '0148', '0149', '0150', '0151', '0152', '0153', '0154', '0155', '0156', '0157', '0158', '0159', '0161', '0162', '0163', '0164', '0165', '0166', '0167', '0168', '0169', '0170', '0171', '0172', '0173', '0174', '0175', '0176', '0177', '0178', '0179', '0180', '0181', '0182', '0183', '0184', '0185', '0186', '0187', '0188', '0189', '0190', '0191', '0192', '0193', '0194', '0195', '0196', '0197', '0201', '0202', '0203', '0204', '0205', '0206', '0207', '0208', '0209', '0210', '0211', '0212', '0213', '0214', '0215', '0216', '0217', '0218', '0219', '0220', '0221', '0222', '0223', '0224', '0225', '0226', '0227', '0228', '0229', '0230', '0231', '0232', '0233', '0234', '0235', '0236', '0237', '0238', '0239', '0240', '0241', '0242', '0243', '0244', '0245', '0246', '0247', '0248', '0249', '0250', '0251', '0252', '0253', '0254', '0255', '0256', '0257', '0258', '0259', '0260', '0261', '0262', '0263', '0264', '0265', '0266', '0267', '0268', '0269', '0270', '0271', '0272', '0273', '0274', '0275', '0276', '0277', '0278', '0279', '0280', '0281', '0282', '0283', '0284', '0285', '0286', '0287', '0288', '0289', '0290', '0291', '0292', '0293', '0294', '0295', '0296', '0297', '0298', '0299', '0300', '0301', '0302', '0303', '0304', '0305', '0306', '0307', '0308', '0309', '0310', '0311', '0312', '0313', '0314', '0315', '0316', '0317', '0318', '0319', '0320', '0321', '0322', '0323', '0324', '0325', '0326', '0327', '0328', '0329', '0330', '0331', '0332', '0333', '0334', '0335', '0336', '0337', '0338', '0339', '0340', '0341', '0342', '0343', '0344', '0345', '0346', '0347', '0348', '0349', '0350', '0351', '0352', '0353', '0354', '0355', '0356', '0357', '0358', '0359', '0360', '0361', '0362', '0363', '0364', '0365', '0366', '0367', '0368', '0369', '0370', '0371', '0372', '0373', '0374', '0375', '0376', '0377', '0378', '0379', '0380', '0381', '0382', '0383', '0384', '0385', '0386', '0387', '0388', '0389', '0390', '0391', '0392', '0393', '0394', '0395', '0396', '0397', '0398', '0399', '0400', '0401', '0402', '0403', '0404', '0405'])\n",
      "{'sno': '0001', 'sna': '捷運市政府站(3號出口)', 'tot': '180', 'sbi': '4', 'sarea': '信義區', 'mday': '20210930154018', 'lat': '25.0408578889', 'lng': '121.567904444', 'ar': '忠孝東路/松仁路(東南側)', 'sareaen': 'Xinyi Dist.', 'snaen': 'MRT Taipei City Hall Stataion(Exit 3)-2', 'aren': 'The S.W. side of Road Zhongxiao East Road & Road Chung Yan.', 'bemp': '175', 'act': '1'}\n",
      "dict_keys(['sno', 'sna', 'tot', 'sbi', 'sarea', 'mday', 'lat', 'lng', 'ar', 'sareaen', 'snaen', 'aren', 'bemp', 'act'])\n"
     ]
    }
   ],
   "source": [
    "print(type(data))\n",
    "print(data.keys())\n",
    "print(type(data['retVal']))\n",
    "print(len(data['retVal']))\n",
    "print(data['retVal'].keys())\n",
    "print(data['retVal']['0001'])\n",
    "print(data['retVal']['0001'].keys())"
   ]
  },
  {
   "cell_type": "code",
   "execution_count": 2,
   "metadata": {
    "ExecuteTime": {
     "end_time": "2020-03-17T16:22:40.763515Z",
     "start_time": "2020-03-17T16:22:40.757457Z"
    },
    "id": "4dPjEzHEC9Dv",
    "outputId": "0873176a-d51b-4c02-9d9b-ccceeca98818"
   },
   "outputs": [
    {
     "name": "stdout",
     "output_type": "stream",
     "text": [
      "<class 'dict'>\n",
      "dict_keys(['retCode', 'retVal'])\n",
      "{'sno': '0137', 'sna': '國防大學', 'tot': '46', 'sbi': '29', 'sarea': '北投區', 'mday': '20220911072343', 'lat': '25.137976', 'lng': '121.493066', 'ar': '中央北路二段/豐年路二段交叉口', 'sareaen': 'Beitou Dist.', 'snaen': 'Nat’l Defense U.', 'aren': 'Sec. 2, Zhongyang N. Rd. / Sec. 2, Fengnian Rd.', 'bemp': '14', 'act': '1'}\n",
      "29\n",
      "46\n"
     ]
    }
   ],
   "source": [
    "# print the type of whole data\n",
    "print(type(data))\n",
    "\n",
    "# print all key of the whole data\n",
    "print(data.keys())\n",
    "\n",
    "# traversing the data\n",
    "print(data['retVal']['0137'])\n",
    "print(data['retVal']['0137']['sbi'])\n",
    "print(data['retVal']['0137']['tot'])"
   ]
  },
  {
   "cell_type": "markdown",
   "metadata": {
    "id": "p4DCyxKMC9Dv"
   },
   "source": [
    "## Get all keys and values\n",
    "使用`.keys()`與`.values()`與`.items()`分別取出dict的內容"
   ]
  },
  {
   "cell_type": "code",
   "execution_count": 3,
   "metadata": {
    "id": "7E3KHINcC9Dv",
    "outputId": "83f6b065-6a78-48d1-f355-f3943ecb983d"
   },
   "outputs": [
    {
     "data": {
      "text/plain": [
       "[('0001',\n",
       "  {'sno': '0001',\n",
       "   'sna': '捷運市政府站(3號出口)',\n",
       "   'tot': '88',\n",
       "   'sbi': '28',\n",
       "   'sarea': '信義區',\n",
       "   'mday': '20220911072338',\n",
       "   'lat': '25.0408578889',\n",
       "   'lng': '121.567904444',\n",
       "   'ar': '忠孝東路/松仁路(東南側)',\n",
       "   'sareaen': 'Xinyi Dist.',\n",
       "   'snaen': 'MRT Taipei City Hall Stataion(Exit 3)-2',\n",
       "   'aren': 'The S.W. side of Road Zhongxiao East Road & Road Chung Yan.',\n",
       "   'bemp': '56',\n",
       "   'act': '1'}),\n",
       " ('0002',\n",
       "  {'sno': '0002',\n",
       "   'sna': '捷運國父紀念館站(2號出口)',\n",
       "   'tot': '16',\n",
       "   'sbi': '3',\n",
       "   'sarea': '大安區',\n",
       "   'mday': '20220911072339',\n",
       "   'lat': '25.041254',\n",
       "   'lng': '121.55742',\n",
       "   'ar': '忠孝東路四段/光復南路口(西南側)',\n",
       "   'sareaen': 'Daan Dist.',\n",
       "   'snaen': 'MRT S.Y.S Memorial Hall Stataion(Exit 2.)',\n",
       "   'aren': 'Sec,4. Zhongxiao E.Rd/GuangFu S. Rd',\n",
       "   'bemp': '13',\n",
       "   'act': '1'}),\n",
       " ('0004',\n",
       "  {'sno': '0004',\n",
       "   'sna': '市民廣場',\n",
       "   'tot': '32',\n",
       "   'sbi': '6',\n",
       "   'sarea': '信義區',\n",
       "   'mday': '20220911072339',\n",
       "   'lat': '25.0360361111',\n",
       "   'lng': '121.562325',\n",
       "   'ar': '市府路/松壽路(西北側)(鄰近台北101/台北世界貿易中心/台北探索館)',\n",
       "   'sareaen': 'Xinyi Dist.',\n",
       "   'snaen': 'Citizen Square',\n",
       "   'aren': 'The N.W. side of Road Shifu & Road Song Shou.',\n",
       "   'bemp': '26',\n",
       "   'act': '1'})]"
      ]
     },
     "execution_count": 3,
     "metadata": {},
     "output_type": "execute_result"
    }
   ],
   "source": [
    "data[\"retVal\"].keys()\n",
    "data[\"retVal\"].values()\n",
    "data[\"retVal\"].items()\n",
    "# data[\"retVal\"].items()[:3]\n",
    "list(data[\"retVal\"].items())[:3]"
   ]
  },
  {
   "cell_type": "markdown",
   "metadata": {
    "id": "wXFtTDawC9Dw"
   },
   "source": [
    "# Iterating a dictionary\n",
    "下列方法都可以把所有站台的sbi給列印出來，請觀察看看`.items()`和沒有`.items()`的用法有何差異。\n",
    "```\n",
    "for k in data[\"retVal\"].keys():\n",
    "    print(data[\"retVal\"][k][\"sbi\"])\n",
    "for k in data[\"retVal\"]:\n",
    "    print(data[\"retVal\"][k][\"sbi\"])\n",
    "for k in data[\"retVal\"].items():\n",
    "    print(k[1][\"sbi\"])\n",
    "for k, v in data['retVal'].items():\n",
    "    print(k, v[\"sbi\"])\n",
    "```"
   ]
  },
  {
   "cell_type": "code",
   "execution_count": 4,
   "metadata": {
    "ExecuteTime": {
     "end_time": "2020-03-17T16:34:04.828715Z",
     "start_time": "2020-03-17T16:34:04.547560Z"
    },
    "id": "MEgjHM0GC9Dw",
    "outputId": "df0f56cd-b2fc-4378-e728-0046227b0f7d"
   },
   "outputs": [
    {
     "name": "stdout",
     "output_type": "stream",
     "text": [
      "0001 捷運市政府站(3號出口) 28 88\n",
      "0002 捷運國父紀念館站(2號出口) 3 16\n",
      "0004 市民廣場 6 32\n",
      "0005 興雅國中 4 32\n",
      "0006 臺北南山廣場 3 54\n",
      "0007 信義廣場(台北101) 4 40\n",
      "0008 世貿三館 9 32\n",
      "0009 松德站 9 20\n",
      "0010 台北市災害應變中心 18 36\n",
      "0011 三張犁 13 16\n",
      "0012 臺北醫學大學 13 22\n",
      "0014 榮星花園 6 8\n",
      "0016 松山家商 7 10\n",
      "0017 民生光復路口 5 18\n",
      "0018 臺北市藝文推廣處 3 16\n",
      "0019 象山公園 12 20\n",
      "0021 民生敦化路口 8 14\n",
      "0022 松山車站 8 16\n",
      "0024 信義建國路口 6 12\n",
      "0025 永吉松信路口 12 12\n",
      "0026 捷運昆陽站(1號出口) 8 14\n",
      "0027 捷運南港展覽館站(5號出口) 3 18\n",
      "0028 五常公園 6 32\n",
      "0029 金山愛國路口 14 22\n",
      "0030 基隆長興路口 16 26\n",
      "0031 辛亥新生路口 3 10\n",
      "0032 捷運六張犁站 18 38\n",
      "0033 中崙高中 3 46\n",
      "0034 捷運行天宮站(1號出口) 1 20\n",
      "0035 捷運行天宮站(3號出口) 3 8\n",
      "0036 臺大資訊大樓 10 72\n",
      "0038 臺灣師範大學(圖書館) 7 12\n",
      "0039 南港世貿公園 2 10\n",
      "0040 玉成公園 10 16\n",
      "0041 中研公園 16 20\n",
      "0042 捷運後山埤站(1號出口) 8 16\n",
      "0043 凌雲市場 13 30\n",
      "0044 捷運南港軟體園區站(2號出口) 11 22\n",
      "0045 捷運公館站(2號出口) 0 30\n",
      "0046 南港國小 7 18\n",
      "0047 捷運忠孝新生站(4號出口) 2 32\n",
      "0048 南港車站(忠孝東路) 9 18\n",
      "0049 龍門廣場 1 20\n",
      "0050 民權運動公園 25 32\n",
      "0051 建國農安街口 3 16\n",
      "0052 建國長春路口 3 12\n",
      "0053 八德市場 6 10\n",
      "0054 臺北市立圖書館(總館) 3 16\n",
      "0055 臺北田徑場 4 22\n",
      "0056 仁愛林森路口 18 22\n",
      "0057 新生和平路口 4 16\n",
      "0058 捷運善導寺站(1號出口) 12 12\n",
      "0059 林森公園 9 12\n",
      "0060 中山行政中心 8 10\n",
      "0061 台灣科技大學 22 46\n",
      "0062 南昌公園 8 14\n",
      "0063 仁愛醫院 4 16\n",
      "0064 國家圖書館 14 14\n",
      "0065 青年公園3號出口 16 18\n",
      "0066 師範大學公館校區 8 20\n",
      "0067 捷運臺大醫院(4號出口) 1 20\n",
      "0068 國興青年路口 28 36\n",
      "0069 興豐公園 14 18\n",
      "0070 捷運台北101/世貿站 0 12\n",
      "0071 捷運信義安和站(4號出口) 4 12\n",
      "0072 新生長安路口 15 22\n",
      "0073 酒泉延平路口 2 14\n",
      "0074 信義連雲街口 6 10\n",
      "0075 基隆光復路口 6 12\n",
      "0076 新生長春路口 7 12\n",
      "0077 民生活動中心 9 12\n",
      "0078 捷運圓山站(2號出口) 1 20\n",
      "0079 捷運民權西路站(3號出口) 1 24\n",
      "0081 捷運台電大樓站(2號出口) 11 22\n",
      "0082 捷運西門站(3號出口) 3 24\n",
      "0083 捷運大安森林公園站 2 20\n",
      "0084 復華花園新城 10 12\n",
      "0085 信義敦化路口 5 10\n",
      "0086 民權復興路口 11 12\n",
      "0087 捷運大安站 4 22\n",
      "0088 捷運象山站 7 14\n",
      "0089 和平重慶路口 6 22\n",
      "0090 老松國小 19 28\n",
      "0091 市立美術館 0 18\n",
      "0092 開封西寧路口 14 42\n",
      "0093 吳興公車總站 3 12\n",
      "0094 捷運景美站 6 20\n",
      "0095 東園國小 7 12\n",
      "0096 三民公園 7 8\n",
      "0097 捷運劍潭站(2號出口) 6 20\n",
      "0098 羅斯福景隆街口 19 28\n",
      "0099 捷運雙連站(2號出口) 2 10\n",
      "0100 金山市民路口 13 40\n",
      "0102 臺北市客家文化主題公園 11 32\n",
      "0103 萬華車站 13 28\n",
      "0104 台北花木批發市場 12 30\n",
      "0105 峨嵋停車場 9 42\n",
      "0106 西園艋舺路口 7 32\n",
      "0107 捷運小南門站(1號出口) 11 26\n",
      "0109 林安泰古厝 10 10\n",
      "0110 文湖國小 6 12\n",
      "0111 捷運忠孝復興站(2號出口) 5 18\n",
      "0112 捷運新北投站 19 36\n",
      "0113 仁愛逸仙路口 4 8\n",
      "0114 蘭雅公園 5 10\n",
      "0115 臺北轉運站 9 22\n",
      "0116 福林公園 4 14\n",
      "0117 捷運北投站 8 26\n",
      "0118 大業大同街口 11 14\n",
      "0119 捷運劍南路站(2號出口) 5 10\n",
      "0120 捷運龍山寺站(1號出口) 4 14\n",
      "0122 捷運港墘站(2號出口) 9 20\n",
      "0123 天母運動公園 6 32\n",
      "0125 華西公園 11 14\n",
      "0126 敦化基隆路口 3 14\n",
      "0127 東湖國中 24 38\n",
      "0128 成功國宅 13 16\n",
      "0129 捷運文德站(2號出口) 8 18\n",
      "0130 羅斯福寧波東街口 1 10\n",
      "0131 洲子二號公園 3 20\n",
      "0133 蘭興公園 1 12\n",
      "0134 捷運芝山站(2號出口) 7 20\n",
      "0135 捷運石牌站(2號出口) 15 24\n",
      "0136 國立臺北護理健康大學 3 16\n",
      "0137 國防大學 29 46\n",
      "0138 捷運永春站(2號出口) 4 12\n",
      "0139 永樂市場 15 24\n",
      "0140 捷運大橋頭站(2號出口) 3 20\n",
      "0141 文山行政中心 10 10\n",
      "0142 捷運木柵站 4 20\n",
      "0143 捷運動物園站(2號出口) 11 46\n",
      "0145 樹德公園 12 18\n",
      "0147 士林運動中心 11 20\n",
      "0148 捷運明德站 14 40\n",
      "0149 北投運動中心 26 62\n",
      "0150 松德公園 6 10\n",
      "0151 考試院 10 12\n",
      "0152 百齡國小 8 22\n",
      "0153 蔣渭水紀念公園 10 16\n",
      "0154 中正基河路口 5 8\n",
      "0155 瑞光港墘路口 11 18\n",
      "0156 東湖國小 5 16\n",
      "0157 麗山國小 11 26\n",
      "0158 捷運東湖站 12 30\n",
      "0159 捷運西湖站(1號出口) 5 20\n",
      "0161 大豐公園 13 32\n",
      "0162 捷運中山國小站(4號出口) 31 44\n",
      "0163 捷運麟光站 28 72\n",
      "0164 捷運奇岩站 6 28\n",
      "0165 捷運唭哩岸站(2號出口) 11 48\n",
      "0166 臺北市立景美女中 5 20\n",
      "0167 臺北市立天文館 2 22\n",
      "0168 河堤國小 24 44\n",
      "0169 植物園 7 22\n",
      "0170 新東公園 16 24\n",
      "0171 文山運動中心 3 22\n",
      "0172 捷運南京三民站(1號出口) 5 16\n",
      "0173 捷運松江南京站(7號出口) 1 14\n",
      "0175 捷運南京復興站(5號出口) 6 16\n",
      "0176 興安華城 9 24\n",
      "0177 葫蘆國小 13 34\n",
      "0178 延平國宅 10 32\n",
      "0179 南港公園 11 24\n",
      "0180 福華商場 6 20\n",
      "0181 建國和平路口 2 10\n",
      "0182 捷運古亭站(2號出口) 0 14\n",
      "0183 圓環站 8 12\n",
      "0184 劍潭社區 6 24\n",
      "0186 臺北市立大學 48 70\n",
      "0187 仁愛延吉街口 6 10\n",
      "0188 社子國小 24 30\n",
      "0189 金瑞公園(金龍路) 12 18\n",
      "0190 捷運大直站(3號出口) 4 12\n",
      "0191 捷運大湖公園站(2號出口) 1 24\n",
      "0192 捷運葫洲站(1號出口) 8 12\n",
      "0193 舊莊區民活動中心 7 12\n",
      "0194 市民林森路口 4 14\n",
      "0195 信義杭州路口(中華電信總公司) 4 16\n",
      "0196 新湖國小 3 8\n",
      "0197 饒河夜市(八德路側) 16 18\n",
      "0201 東陽公園 5 16\n",
      "0202 捷運關渡站 8 30\n",
      "0203 古亭國中 7 30\n",
      "0204 臺北市立大學(天母校區) 10 14\n",
      "0205 木柵光輝路口 11 14\n",
      "0206 捷運辛亥站 3 10\n",
      "0207 福安國中 1 30\n",
      "0208 龍山國小 13 30\n",
      "0209 捷運復興崗站 8 42\n",
      "0210 樂群二敬業四路口 8 16\n",
      "0211 星雲金湖街口 7 22\n",
      "0212 北安大直街口 2 50\n",
      "0213 蘭雅國小 5 10\n",
      "0214 基河一期國宅 20 30\n",
      "0215 捷運北門站(3號出口) 13 14\n",
      "0216 培英公園 14 26\n",
      "0217 臺北花市 11 40\n",
      "0218 松山高中 8 10\n",
      "0219 大理高中 4 20\n",
      "0220 大稻埕公園 7 16\n",
      "0221 泰和公園 4 6\n",
      "0222 撫順公園 6 12\n",
      "0223 清江國小 16 20\n",
      "0224 社正公園 5 32\n",
      "0225 臥龍樂業街口 19 22\n",
      "0226 向陽南港路口 8 20\n",
      "0227 麗山高中 12 30\n",
      "0228 捷運萬芳社區站 3 16\n",
      "0230 湖光國宅 4 14\n",
      "0231 內政部營建署 5 10\n",
      "0232 中山天母路口 4 16\n",
      "0233 捷運忠義站 15 44\n",
      "0234 永欣綠地 12 28\n",
      "0235 市民東興路口 10 18\n",
      "0236 關渡自然公園 12 20\n",
      "0238 瑞湖陽光街口 4 12\n",
      "0239 新明路262巷口 6 18\n",
      "0240 南京建國路口 1 16\n",
      "0241 林口公園 7 38\n",
      "0242 關渡宮 23 40\n",
      "0243 社子公園 5 10\n",
      "0244 復興市民路口 7 18\n",
      "0245 捷運中山國中站 2 16\n",
      "0246 國立故宮博物院 5 40\n",
      "0247 木柵公園 5 14\n",
      "0248 喬治工商 3 12\n",
      "0249 中華桂林路口 0 12\n",
      "0250 忠孝東路三段217巷口 2 4\n",
      "0251 華齡公園 11 18\n",
      "0252 大安運動中心 3 16\n",
      "0253 芝山抽水站 10 24\n",
      "0254 立功立德路口 13 24\n",
      "0256 中山中正路口 16 28\n",
      "0257 錦德公園 16 18\n",
      "0258 聯合醫院中興院區 6 12\n",
      "0259 南京遼寧街口 1 20\n",
      "0260 民權瑞光路口 26 36\n",
      "0261 健康新城 9 12\n",
      "0262 永安藝文館-表演36房 8 10\n",
      "0263 至善臨溪路口 5 16\n",
      "0264 秀山區民活動中心 2 28\n",
      "0265 中央北路四段30巷口 9 24\n",
      "0266 洲子一號公園 5 34\n",
      "0267 八德中坡路口 27 38\n",
      "0268 南港高工 17 30\n",
      "0269 三軍總醫院 9 22\n",
      "0270 雨農國小 4 22\n",
      "0271 伊通長安路口 6 10\n",
      "0272 忠順區民活動中心 22 32\n",
      "0273 芝山國小 25 38\n",
      "0274 扶輪親恩公園 19 30\n",
      "0275 西本願寺廣場 2 30\n",
      "0276 三興公園 8 14\n",
      "0277 中山堂 4 16\n",
      "0278 明美公園 1 10\n",
      "0279 南港車站(興華路) 2 26\n",
      "0280 士林新天地 4 10\n",
      "0281 松江公園 1 12\n",
      "0282 富台公園 7 10\n",
      "0283 中央北路四段540巷口 5 22\n",
      "0284 華聲公園 6 16\n",
      "0285 螢橋國小 15 20\n",
      "0286 德明財經科技大學 7 18\n",
      "0287 第二果菜批發市場 7 8\n",
      "0288 濟南紹興路口 21 34\n",
      "0289 牯嶺公園 12 18\n",
      "0290 新生公園 8 8\n",
      "0291 捷運松山站(3號出口) 15 20\n",
      "0292 合心廣場 9 22\n",
      "0293 自來水園區 4 20\n",
      "0294 朱崙商場 7 12\n",
      "0295 敦親公園 7 10\n",
      "0296 萬和二號公園 13 20\n",
      "0297 長沙公園 1 10\n",
      "0298 太原五原路口 12 12\n",
      "0299 萬華國中 10 14\n",
      "0300 信義基隆路口 1 10\n",
      "0301 林森長春路口 8 10\n",
      "0302 敦北公園 5 14\n",
      "0303 安泰街83巷 10 10\n",
      "0304 金華公園 3 16\n",
      "0305 碧山公園 15 18\n",
      "0307 仁愛安和路口 7 10\n",
      "0308 西松高中 3 18\n",
      "0309 三軍總醫院(松山分院) 13 18\n",
      "0310 國立臺北大學(臺北校區) 3 8\n",
      "0311 捷運忠孝新生站(2號出口) 5 12\n",
      "0312 捷運信義安和站(1號出口) 4 10\n",
      "0313 光華商場 5 12\n",
      "0314 敦化長春路口 3 12\n",
      "0315 捷運萬隆站(1號出口) 4 20\n",
      "0316 民有一號公園 5 10\n",
      "0317 雙園國中 20 24\n",
      "0318 成功金龍路口 1 8\n",
      "0319 民族林森路口 18 38\n",
      "0320 捷運南京三民站(3號出口) 2 28\n",
      "0322 永盛公園(民生東路一段23巷) 6 18\n",
      "0323 新興公園 6 10\n",
      "0324 市立圖書館葫蘆堵分館 6 10\n",
      "0325 南京東路六段368巷 10 18\n",
      "0326 基隆路一段101巷口 3 4\n",
      "0327 重慶南海路口 3 24\n",
      "0328 一江公園 10 10\n",
      "0329 樂群二明水路口 3 24\n",
      "0330 迪化休閒運動公園 11 12\n",
      "0332 捷運中山站(2號出口) 2 8\n",
      "0333 復盛公園 15 22\n",
      "0334 敦化南路二段103巷口 2 12\n",
      "0335 景文中學 13 16\n",
      "0336 承德路三段8巷口 5 12\n",
      "0337 彩虹橋 16 24\n",
      "0338 成德國中 5 16\n",
      "0339 重慶國中 11 22\n",
      "0340 南京光復路口 6 10\n",
      "0341 捷運芝山站(1號出口) 4 18\n",
      "0342 文林建民路口 6 30\n",
      "0344 捷運忠孝復興站(5號出口) 8 22\n",
      "0345 中正運動中心 9 12\n",
      "0346 陽明高中 4 14\n",
      "0347 博愛寶慶路口 9 14\n",
      "0348 民生立體停車場 4 14\n",
      "0349 重慶酒泉街口 15 16\n",
      "0350 復興南路二段128巷口 5 8\n",
      "0351 中山青島路口 5 8\n",
      "0352 民權迪化街口 11 12\n",
      "0354 建國濟南路口 0 16\n",
      "0355 福山公園 20 34\n",
      "0356 臺北市網球中心 6 16\n",
      "0357 松友公園 5 8\n",
      "0358 新明成功路口 14 30\n",
      "0360 民權建國路口 9 14\n",
      "0361 振興醫院 5 14\n",
      "0362 和平金山路口 6 18\n",
      "0363 復興南路一段340巷口 2 12\n",
      "0364 嘉興公園 6 12\n",
      "0365 陽明大學 6 38\n",
      "0366 碧湖公園 11 22\n",
      "0367 豐年公園 8 14\n",
      "0368 臺灣戲曲中心 1 30\n",
      "0369 世新大學 6 10\n",
      "0371 南門國中 12 30\n",
      "0372 重慶民族路口 8 12\n",
      "0373 中崙福成宮 1 10\n",
      "0374 麗湖國小 9 20\n",
      "0375 銘傳大學 11 18\n",
      "0376 民生建國路口 13 14\n",
      "0377 南港路二段178巷口 6 12\n",
      "0379 春光公園 9 38\n",
      "0380 塔悠疏散門 6 10\n",
      "0381 民權東路六段15巷 10 16\n",
      "0382 聯合醫院和平院區 5 16\n",
      "0383 一壽橋 9 12\n",
      "0385 和興路26巷口 11 24\n",
      "0386 錦州吉林路口 0 10\n",
      "0387 吳興街260巷 5 10\n",
      "0388 景華街128巷口 17 18\n",
      "0389 福德國小 7 12\n",
      "0390 稻香重三路口 12 34\n",
      "0391 景仁公園 12 14\n",
      "0392 南京東興路口 4 8\n",
      "0393 內溝溪生態展示館 7 8\n",
      "0394 松德虎林街口 7 10\n",
      "0395 安強公園 7 10\n",
      "0396 新東街51巷口 5 12\n",
      "0397 劍潭海外青年活動中心 11 26\n",
      "0398 聯合醫院陽明院區 3 24\n",
      "0400 和平敦化路口 0 12\n",
      "0401 南京新生路口 13 16\n",
      "0402 下灣公園 1 12\n",
      "0403 捷運內湖站(1號出口) 2 10\n",
      "0404 民族延平路口 6 10\n",
      "0405 捷運科技大樓站(台北教育大學) 14 46\n"
     ]
    }
   ],
   "source": [
    "# print(data['retVal'].keys())\n",
    "for key in data['retVal'].keys():\n",
    "    print(key,\\\n",
    "          data['retVal'][key]['sna'],\\\n",
    "          data['retVal'][key]['sbi'],\\\n",
    "          data['retVal'][key]['tot'])\n",
    "\n"
   ]
  },
  {
   "cell_type": "markdown",
   "metadata": {
    "id": "kFVBxLLlC9Dx"
   },
   "source": [
    "# Practice: 計算出每個行政區有多少個ubike站台"
   ]
  },
  {
   "cell_type": "code",
   "execution_count": 5,
   "metadata": {
    "ExecuteTime": {
     "end_time": "2020-03-17T16:37:21.655539Z",
     "start_time": "2020-03-17T16:37:21.647222Z"
    },
    "id": "mgdq2UfMC9Dx",
    "outputId": "ea3174d7-af57-4c46-acd2-dd26a33e00e5"
   },
   "outputs": [
    {
     "data": {
      "text/plain": [
       "{'信義區': 36,\n",
       " '大安區': 43,\n",
       " '中山區': 44,\n",
       " '松山區': 30,\n",
       " '南港區': 20,\n",
       " '中正區': 31,\n",
       " '萬華區': 20,\n",
       " '文山區': 25,\n",
       " '大同區': 20,\n",
       " '士林區': 35,\n",
       " '內湖區': 41,\n",
       " '北投區': 27}"
      ]
     },
     "execution_count": 5,
     "metadata": {},
     "output_type": "execute_result"
    }
   ],
   "source": [
    "area_dict = {}\n",
    "for key in data['retVal'].keys():\n",
    "    if data['retVal'][key]['sarea'] not in area_dict:\n",
    "        area_dict[data['retVal'][key]['sarea']] = 1\n",
    "    else:\n",
    "        area_dict[data['retVal'][key]['sarea']] += 1\n",
    "\n",
    "\n",
    "\n",
    "# area_dict = {}\n",
    "# for key, row in data[\"retVal\"].items():\n",
    "#     if row[\"sarea\"] not in area_dict:\n",
    "#         area_dict[row[\"sarea\"]] = 1\n",
    "#     else:\n",
    "#         area_dict[row[\"sarea\"]] += 1\n",
    "area_dict\n",
    "\n",
    "\n",
    "\n",
    "\n"
   ]
  }
 ],
 "metadata": {
  "colab": {
   "collapsed_sections": [],
   "name": "P03_list_dictionary_blank.ipynb",
   "provenance": [],
   "toc_visible": true
  },
  "kernelspec": {
   "display_name": "Python 3 (ipykernel)",
   "language": "python",
   "name": "python3"
  },
  "language_info": {
   "codemirror_mode": {
    "name": "ipython",
    "version": 3
   },
   "file_extension": ".py",
   "mimetype": "text/x-python",
   "name": "python",
   "nbconvert_exporter": "python",
   "pygments_lexer": "ipython3",
   "version": "3.9.12"
  },
  "toc": {
   "base_numbering": 1,
   "nav_menu": {},
   "number_sections": true,
   "sideBar": true,
   "skip_h1_title": false,
   "title_cell": "Table of Contents",
   "title_sidebar": "Contents",
   "toc_cell": false,
   "toc_position": {
    "height": "calc(100% - 180px)",
    "left": "10px",
    "top": "150px",
    "width": "257px"
   },
   "toc_section_display": true,
   "toc_window_display": true
  },
  "varInspector": {
   "cols": {
    "lenName": 16,
    "lenType": 16,
    "lenVar": 40
   },
   "kernels_config": {
    "python": {
     "delete_cmd_postfix": "",
     "delete_cmd_prefix": "del ",
     "library": "var_list.py",
     "varRefreshCmd": "print(var_dic_list())"
    },
    "r": {
     "delete_cmd_postfix": ") ",
     "delete_cmd_prefix": "rm(",
     "library": "var_list.r",
     "varRefreshCmd": "cat(var_dic_list()) "
    }
   },
   "types_to_exclude": [
    "module",
    "function",
    "builtin_function_or_method",
    "instance",
    "_Feature"
   ],
   "window_display": false
  }
 },
 "nbformat": 4,
 "nbformat_minor": 4
}
