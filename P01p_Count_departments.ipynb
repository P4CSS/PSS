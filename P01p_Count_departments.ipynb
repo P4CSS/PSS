{
 "cells": [
  {
   "cell_type": "markdown",
   "id": "8cf890a7",
   "metadata": {},
   "source": [
    "<a href=\"https://colab.research.google.com/github/P4CSS/PSS/blob/master/P01p_Count_departments.ipynb\" target=\"_parent\"><img src=\"https://colab.research.google.com/assets/colab-badge.svg\" alt=\"Open In Colab\"/></a>"
   ]
  },
  {
   "cell_type": "markdown",
   "id": "fdb51112",
   "metadata": {},
   "source": [
    "# Self-Quiz: Counting departments\n",
    "以下的stu_list為一群修課生的科系，現在要列數每個科系有多少人修課。"
   ]
  },
  {
   "cell_type": "code",
   "execution_count": 11,
   "id": "e7da9ef7",
   "metadata": {},
   "outputs": [],
   "source": [
    "stu_dict = {}\n",
    "stu_list = [\"soc\", \"soc\", \"econ\", \"bio\", \"psy\", \"psy\", \"econ\", \"poli\", \"econ\"]"
   ]
  },
  {
   "cell_type": "markdown",
   "id": "3c4efa89",
   "metadata": {},
   "source": [
    "### Counting with for-loop\n",
    "```\n",
    "Output:\n",
    "{'soc': 2, 'econ': 3, 'bio': 1, 'psy': 2, 'poli': 1}`\n",
    "```"
   ]
  },
  {
   "cell_type": "code",
   "execution_count": 13,
   "id": "580c5f1f",
   "metadata": {},
   "outputs": [
    {
     "name": "stdout",
     "output_type": "stream",
     "text": [
      "{'soc': 2, 'econ': 3, 'bio': 1, 'psy': 2, 'poli': 1}\n"
     ]
    }
   ],
   "source": [
    "\n",
    "\n",
    "\n",
    "\n"
   ]
  },
  {
   "cell_type": "markdown",
   "id": "54144896",
   "metadata": {},
   "source": [
    "### Print out all keys and value()\n",
    "```\n",
    "Output：\n",
    "dict_keys(['soc', 'econ', 'bio', 'psy', 'poli'])\n",
    "dict_values([2, 3, 1, 2, 1])\n",
    "```"
   ]
  },
  {
   "cell_type": "code",
   "execution_count": 15,
   "id": "6ab59ebd",
   "metadata": {},
   "outputs": [
    {
     "name": "stdout",
     "output_type": "stream",
     "text": [
      "dict_keys(['soc', 'econ', 'bio', 'psy', 'poli'])\n",
      "dict_values([2, 3, 1, 2, 1])\n"
     ]
    }
   ],
   "source": [
    "\n"
   ]
  },
  {
   "cell_type": "markdown",
   "id": "534827d7",
   "metadata": {},
   "source": [
    "### Print out all pairs by items()\n",
    "```\n",
    "Output: \n",
    "dict_items([('soc', 2), ('econ', 3), ('bio', 1), ('psy', 2), ('poli', 1)])\n",
    "```"
   ]
  },
  {
   "cell_type": "code",
   "execution_count": 14,
   "id": "d6baf826",
   "metadata": {},
   "outputs": [
    {
     "name": "stdout",
     "output_type": "stream",
     "text": [
      "dict_items([('soc', 2), ('econ', 3), ('bio', 1), ('psy', 2), ('poli', 1)])\n"
     ]
    }
   ],
   "source": []
  },
  {
   "cell_type": "markdown",
   "id": "e54b8096",
   "metadata": {},
   "source": [
    "### Counting by Counter()\n",
    "```\n",
    "Output:\n",
    "Counter({'econ': 3, 'soc': 2, 'psy': 2, 'bio': 1, 'poli': 1})\n",
    "econ 3\n",
    "soc 2\n",
    "psy 2\n",
    "bio 1\n",
    "poli 1\n",
    "```"
   ]
  },
  {
   "cell_type": "code",
   "execution_count": 18,
   "id": "012f6241",
   "metadata": {},
   "outputs": [
    {
     "name": "stdout",
     "output_type": "stream",
     "text": [
      "Counter({'econ': 3, 'soc': 2, 'psy': 2, 'bio': 1, 'poli': 1})\n",
      "econ 3\n",
      "soc 2\n",
      "psy 2\n",
      "bio 1\n",
      "poli 1\n"
     ]
    }
   ],
   "source": [
    "\n",
    "\n",
    "\n",
    "\n",
    "\n"
   ]
  }
 ],
 "metadata": {
  "kernelspec": {
   "display_name": "Python 3 (ipykernel)",
   "language": "python",
   "name": "python3"
  },
  "language_info": {
   "codemirror_mode": {
    "name": "ipython",
    "version": 3
   },
   "file_extension": ".py",
   "mimetype": "text/x-python",
   "name": "python",
   "nbconvert_exporter": "python",
   "pygments_lexer": "ipython3",
   "version": "3.9.12"
  }
 },
 "nbformat": 4,
 "nbformat_minor": 5
}
